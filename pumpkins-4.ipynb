{
  "cells": [
    {
      "cell_type": "markdown",
      "metadata": {
        "colab_type": "text",
        "id": "view-in-github"
      },
      "source": [
        "<a href=\"https://colab.research.google.com/github/BawBaw31/python-data/blob/master/pumpkins-1.ipynb\" target=\"_parent\"><img src=\"https://colab.research.google.com/assets/colab-badge.svg\" alt=\"Open In Colab\"/></a>"
      ]
    },
    {
      "cell_type": "markdown",
      "id": "2f4d14b1",
      "metadata": {
        "id": "2f4d14b1"
      },
      "source": [
        "# Cours 2 - Construisons un modèle de régression !\n",
        "Duquesne - 2022\n",
        "\n",
        "Le materiel de cours à été adapté à partir de [ce site](https://github.com/microsoft/ML-For-Beginners)"
      ]
    },
    {
      "cell_type": "markdown",
      "id": "1286c6cf",
      "metadata": {
        "id": "1286c6cf"
      },
      "source": [
        "La libraire de Machine Learning que nous allons utiliser aujourd'hui s'appelle scikit-learn: https://scikit-learn.org/stable/index.html"
      ]
    },
    {
      "cell_type": "code",
      "execution_count": 244,
      "id": "09e61205",
      "metadata": {
        "id": "09e61205"
      },
      "outputs": [],
      "source": [
        "from sklearn.linear_model import LinearRegression\n",
        "from sklearn.metrics import mean_squared_error\n",
        "from sklearn.model_selection import train_test_split\n",
        "import matplotlib.pyplot as plt\n",
        "import numpy as np"
      ]
    },
    {
      "cell_type": "markdown",
      "id": "22388f3d",
      "metadata": {
        "id": "22388f3d"
      },
      "source": [
        "Aujourd'hui, nous allons explorer notre pipeline de Machine Learning (ML) avec un ensemble de données sur les citrouilles. Le modèle de ML que nous allons découvrir est la régression linéaire (et la régression polynomiale)."
      ]
    },
    {
      "cell_type": "markdown",
      "id": "7a86fd59",
      "metadata": {
        "id": "7a86fd59"
      },
      "source": [
        "## Avec quel type de données est-ce que je travaille ?"
      ]
    },
    {
      "cell_type": "markdown",
      "id": "96cc310d",
      "metadata": {
        "id": "96cc310d"
      },
      "source": [
        "Le jeu de données sur les citrouilles est proposé par [ce projet](https://www.kaggle.com/datasets/usda/a-year-of-pumpkin-prices) sur Kaggle et ses données proviennent des \"Specialty Crops Terminal Markets Standard Reports\" distribués par le ministère de l'Agriculture des États-Unis. Certains points autour de la couleur basée sur la variété ont été ajoutés pour normaliser la distribution. Ces données sont dans le domaine public."
      ]
    },
    {
      "cell_type": "markdown",
      "id": "90422ab6",
      "metadata": {
        "id": "90422ab6"
      },
      "source": [
        "Chargez les données dans le notebook en exécutant la cellule suivante. Notre but est de comprendre avec quel type de données nous travaillons.\n",
        "* Quelles sont mes données ? Que représentent-elles ? \n",
        "* Quels sont les types de données pour chacune de mes colonnes ?\n",
        "* Ai-je des données manquantes ? Si oui, combien et pour quelles colonnes? "
      ]
    },
    {
      "cell_type": "code",
      "execution_count": 245,
      "id": "2b24544b",
      "metadata": {
        "colab": {
          "base_uri": "https://localhost:8080/"
        },
        "id": "2b24544b",
        "outputId": "453e68d6-67b3-43ab-bc1a-8c3e1c2dad0a"
      },
      "outputs": [
        {
          "data": {
            "text/plain": [
              "Item Size\n",
              "sml        363\n",
              "med        337\n",
              "lge        294\n",
              "xlge       205\n",
              "med-lge    133\n",
              "jbo        127\n",
              "exjbo       17\n",
              "Name: Item Size, dtype: int64"
            ]
          },
          "execution_count": 245,
          "metadata": {},
          "output_type": "execute_result"
        }
      ],
      "source": [
        "import pandas as pd\n",
        "\n",
        "pumpkins = pd.read_csv('US-pumpkins.csv', parse_dates=['Date'])\n",
        "\n",
        "# remove row if Date is below 2016\n",
        "pumpkins = pumpkins[pumpkins['Date'] >= '2016-01-01']\n",
        "\n",
        "pumpkins[\"Item Size\"].groupby(pumpkins[\"Item Size\"]).count().sort_values(ascending=False).head(10)\n"
      ]
    },
    {
      "cell_type": "markdown",
      "id": "e3321539",
      "metadata": {
        "id": "e3321539"
      },
      "source": [
        "Après quelques explorations, nous constatons que les données sont un peu en vrac. En fait, il n'est pas très courant de recevoir un jeu de données entièrement prêt à être utilisé pour créer un modèle de ML.     \n",
        "\n",
        "Aujourd'hui, vous allez apprendre à préparer un jeu de données brut pour entraîner un modèle de ML."
      ]
    },
    {
      "cell_type": "markdown",
      "id": "6fcfaaff",
      "metadata": {
        "id": "6fcfaaff"
      },
      "source": [
        "## Quelle est la question que nous nous posons ? "
      ]
    },
    {
      "cell_type": "markdown",
      "id": "2d45ef7b",
      "metadata": {
        "id": "2d45ef7b"
      },
      "source": [
        "Avant de commencer à préparer nos données, il est important de considérer la question posée. \n",
        "\n",
        "En général, la question à laquelle vous devez répondre déterminera le type d'algorithmes ML que vous utiliserez. Et la qualité de la réponse que vous obtiendrez dépendra fortement de la nature de vos données."
      ]
    },
    {
      "cell_type": "markdown",
      "id": "4a7088ba",
      "metadata": {
        "id": "4a7088ba"
      },
      "source": [
        "Puisque nous travaillons avec un modèle de régression, une question que nous pourrions formuler avec nos données pourrait être : **\"Pouvons-nous prédire le prix d'une citrouille pour un jour donné ? \"**.    \n",
        "\n",
        "Maintenant, en regardant à nouveau les données, il y a quelques changements que nous devons faire pour préparer les données à un modèle de regression (et de ML plus généralement)."
      ]
    },
    {
      "cell_type": "markdown",
      "id": "40862a25",
      "metadata": {
        "id": "40862a25"
      },
      "source": [
        "## Comment préparer mes données ?"
      ]
    },
    {
      "cell_type": "markdown",
      "id": "7a97fd22",
      "metadata": {
        "id": "7a97fd22"
      },
      "source": [
        "#### Colonnes pertinentes"
      ]
    },
    {
      "cell_type": "markdown",
      "id": "721ab453",
      "metadata": {
        "id": "721ab453"
      },
      "source": [
        "Comme nous voulons prédire le prix pour un jour spécifique, certaines colonnes ne contiennent peut-être pas de données pertinentes pour nous. \n",
        "\n",
        "Commençons par garder que les colonnes pertinentes pour notre question :"
      ]
    },
    {
      "cell_type": "code",
      "execution_count": 246,
      "id": "1f461c61",
      "metadata": {
        "id": "1f461c61"
      },
      "outputs": [],
      "source": [
        "new_columns = ['Name of column to keep'] #put names of columns to keep here\n",
        "# pumpkins = pumpkins.drop([c for c in pumpkins.columns if c not in new_columns], axis=1)"
      ]
    },
    {
      "cell_type": "markdown",
      "id": "7d5442b3",
      "metadata": {
        "id": "7d5442b3"
      },
      "source": [
        "#### Extraction des jours"
      ]
    },
    {
      "cell_type": "markdown",
      "id": "077ece3b",
      "metadata": {
        "id": "077ece3b"
      },
      "source": [
        "Puisque nous travaillons avec des dates, nous devons également extraire le jour de l'année (sur 365 jours) dans une nouvelle colonne. Dans cet ensemble de données, nous avons des dates américaines, donc le format est MM/DD/YYYY)."
      ]
    },
    {
      "cell_type": "code",
      "execution_count": 247,
      "id": "f5260394",
      "metadata": {
        "colab": {
          "base_uri": "https://localhost:8080/",
          "height": 423
        },
        "id": "f5260394",
        "outputId": "9c11bea5-5b17-4f9d-f924-a2fb64c4a837"
      },
      "outputs": [],
      "source": [
        "dayOfYear = pumpkins[\"Date\"].dt.strftime(\"%j\").astype(int)\n",
        "# create a column for day of year\n",
        "pumpkins[\"DayOfYear\"] = dayOfYear"
      ]
    },
    {
      "cell_type": "markdown",
      "id": "8803f7a4",
      "metadata": {
        "id": "8803f7a4"
      },
      "source": [
        "#### Prix moyen"
      ]
    },
    {
      "cell_type": "markdown",
      "id": "1ba1966f",
      "metadata": {
        "id": "1ba1966f"
      },
      "source": [
        "Maintenant, nous avons également besoin du prix moyen de nos citrouilles. Pour cela, nous devons prendre la moyenne des colonnes `Low Price` et `High Price` pour remplir une colonne `Average Price`."
      ]
    },
    {
      "cell_type": "code",
      "execution_count": 248,
      "id": "84956cb0",
      "metadata": {
        "colab": {
          "base_uri": "https://localhost:8080/",
          "height": 345
        },
        "id": "84956cb0",
        "outputId": "78da7b17-bb2f-4645-aaeb-bb2da5b13445"
      },
      "outputs": [
        {
          "data": {
            "image/png": "[encoded data removed]",
            "text/plain": [
              "<Figure size 2000x1000 with 1 Axes>"
            ]
          },
          "metadata": {},
          "output_type": "display_data"
        }
      ],
      "source": [
        "#Your code\n",
        "\n",
        "y_prices = pumpkins.drop([c for c in pumpkins.columns if c not in [\"High Price\"] and c not in [\"Low Price\"]], axis=1).mean(axis=1)\n",
        "pumpkins[\"Price\"] = y_prices\n",
        "\n",
        "\n",
        "# resize graph\n",
        "f = plt.figure()\n",
        "f.set_figwidth(20)\n",
        "f.set_figheight(10)\n",
        "# plot\n",
        "plt.scatter(dayOfYear, y_prices)\n",
        "plt.title('Pumpkins average price by date')\n",
        "plt.xlabel('Date format (year, month)')\n",
        "plt.ylabel('average price')\n",
        "plt.tight_layout()\n",
        "plt.show()\n",
        "f.savefig(\"img/pumpkins-2.png\")"
      ]
    },
    {
      "cell_type": "markdown",
      "id": "9e930ce5",
      "metadata": {
        "id": "9e930ce5"
      },
      "source": [
        "#### Données Manquantes"
      ]
    },
    {
      "cell_type": "markdown",
      "id": "0d9c5455",
      "metadata": {
        "id": "0d9c5455"
      },
      "source": [
        "Avons-nous des valeurs manquantes dans notre ensemble de données ? Il semble que nous ayons de la chance ici, mais dans la plupart des cas, savoir comment traiter les données manquantes est une étape importante de la préparation des données. [Cet article](https://www.analyticsvidhya.com/blog/2021/05/dealing-with-missing-values-in-python-a-complete-guide/) explique les possibilités qui s'offrent à nous lorsque nous sommes confrontés à des données manquantes."
      ]
    },
    {
      "cell_type": "code",
      "execution_count": 249,
      "id": "ae2c0b97",
      "metadata": {
        "id": "ae2c0b97"
      },
      "outputs": [],
      "source": [
        "# pumpkins.isnull().sum()"
      ]
    },
    {
      "cell_type": "markdown",
      "id": "5c5f51c5",
      "metadata": {
        "id": "5c5f51c5"
      },
      "source": [
        "#### Mais attendez ! Il y a quelque chose de bizarre ici."
      ]
    },
    {
      "cell_type": "markdown",
      "id": "36a5c225",
      "metadata": {
        "id": "36a5c225"
      },
      "source": [
        "Si vous regardez la colonne `Package`, les citrouilles sont vendues dans de nombreuses configurations différentes. Certaines sont vendues dans des mesures de \"1 1/9 bushel\", d'autres dans des mesures de \"1/2 bushel\", certaines par citrouille, d'autres par pound (=livre), et d'autres encore dans de grandes boîtes de différentes largeurs."
      ]
    },
    {
      "cell_type": "code",
      "execution_count": 250,
      "id": "cd56b603",
      "metadata": {
        "id": "cd56b603",
        "outputId": "d80b0d49-0965-4a46-e0cc-632604aa5a0b"
      },
      "outputs": [],
      "source": [
        "# pumpkins['Unit of Sale'].unique()"
      ]
    },
    {
      "cell_type": "code",
      "execution_count": 251,
      "id": "f545ffb5",
      "metadata": {
        "id": "f545ffb5",
        "outputId": "f9e2e13e-7366-4445-d72d-9d39256ff13b"
      },
      "outputs": [],
      "source": [
        "# pumpkins['Package'].unique()"
      ]
    },
    {
      "cell_type": "markdown",
      "id": "fe550477",
      "metadata": {
        "id": "fe550477"
      },
      "source": [
        "En creusant dans les données originales, il est intéressant de constater que tous les produits dont la `Unit of Sale` est égale à \"EACH\" ou \"PER BIN\" ont également le type de colis par inch, par bin ou \"each\". Les citrouilles semblent être très difficiles à peser de manière cohérente.\n",
        "\n",
        "Pour pouvoir comparer les prix de nos citrouilles de manière cohérente, nous devons transformer nos données afin d'obtenir le même rapport prix/quantité dans chaque ligne de données. \n",
        "\n",
        "Pour y parvenir, nous pouvons filtrer nos données en sélectionnant uniquement les citrouilles dont la colonne `Package` contient des mesures par \"bushel\". Ou nous pourrions essayer de normaliser le prix pour 1 livre de citrouilles, ou bien pour 1 kg de citrouilles.\n",
        "\n",
        "Toute cette étude sur les [boisseaux](https://fr.wikipedia.org/wiki/Boisseau) de citrouilles montre à quel point il est important de comprendre la nature de vos données !"
      ]
    },
    {
      "cell_type": "markdown",
      "id": "33bf8305",
      "metadata": {
        "id": "33bf8305"
      },
      "source": [
        "Note : *Selon [The Spruce Eats](https://www.thespruceeats.com/how-much-is-a-bushel-1389308), le poids d'un boisseau dépend du type de produit, car il s'agit d'une mesure de volume. \" Un boisseau de tomates, par exemple, est censé peser 56 livres... \". Les feuilles et les légumes verts occupent plus d'espace et pèsent moins. Ainsi, un boisseau d'épinards ne pèse que 10 livres \"*.\n",
        "\n",
        "Note : *Avez-vous remarqué que les citrouilles vendues au demi-boisseau sont très chères ? Pouvez-vous comprendre pourquoi ? Indice : les petites citrouilles sont beaucoup plus chères que les grosses, probablement parce qu'il y en a beaucoup plus par boisseau, étant donné l'espace utilisé par une grosse citrouille."
      ]
    },
    {
      "cell_type": "code",
      "execution_count": 252,
      "id": "f9a8870e",
      "metadata": {
        "id": "f9a8870e"
      },
      "outputs": [],
      "source": [
        "# Your code"
      ]
    },
    {
      "cell_type": "markdown",
      "id": "545b5be9",
      "metadata": {
        "id": "545b5be9"
      },
      "source": [
        "#### Visualisation de nos données"
      ]
    },
    {
      "cell_type": "markdown",
      "id": "b251883c",
      "metadata": {
        "id": "b251883c"
      },
      "source": [
        "La représentation visuelle de vos données peut vous permettre de découvrir des relations cachées dont vous pouvez tirer parti. Vos visualisations peuvent également vous aider à découvrir des biais ou des données déséquilibrées.\n",
        "\n",
        "Pour avoir une première intuition sur nos données :\n",
        "* Tracez un diagramme à barres du prix moyen des citrouilles par mois.\n",
        "* Tracez un nuage de points des prix des citrouilles par mois.\n",
        "\n",
        "Que remarquons-nous sur nos graphiques ? Avons-nous des valeurs aberrantes ? \n",
        "Si vous voulez vous rappeler ce qu'est une valeur aberrante et comment les traiter, je vous suggère [l'article suivant](https://www.analyticsvidhya.com/blog/2021/05/detecting-and-treating-outliers-treating-the-odd-one-out/)."
      ]
    },
    {
      "cell_type": "code",
      "execution_count": 253,
      "id": "44ee8428",
      "metadata": {
        "id": "44ee8428"
      },
      "outputs": [],
      "source": [
        "#Your code"
      ]
    },
    {
      "cell_type": "markdown",
      "id": "42dcb412",
      "metadata": {
        "id": "42dcb412"
      },
      "source": [
        "Vous êtes maintenant prêt à plonger plus profondément dans la régression. Alors que la visualisation vous permet de donner un sens aux données, le véritable pouvoir de l'apprentissage automatique provient de la création de modèles. Les modèles sont formés sur des données antérieures pour capturer automatiquement les liens entre les données, et ils vous permettent de prédire les résultats pour les nouvelles données."
      ]
    },
    {
      "cell_type": "markdown",
      "id": "48fefdf8",
      "metadata": {
        "id": "48fefdf8"
      },
      "source": [
        "## Diviser nos données"
      ]
    },
    {
      "cell_type": "markdown",
      "id": "7344ae71",
      "metadata": {
        "id": "7344ae71"
      },
      "source": [
        "Avant de former notre modèle, nous devons diviser votre ensemble de données en deux ou plusieurs parties de taille inégale qui représentent toujours bien nos données.\n",
        "\n",
        "* Données d'entraînement (Training data). Cette partie de l'ensemble de données est destinée à l'entraînement de votre modèle. Cet ensemble constitue la majorité de l'ensemble de données original.\n",
        "* Test (Testing data). C'est cette partie de l'ensemble de données, qui constitue la minorité de votre ensemble de données, que vous utilisez pour evaluer la performance du modèle construit.\n",
        "* Validation. Un ensemble de validation est un groupe indépendant d'exemples que vous utilisez pour ajuster les hyperparamètres du modèle, ou son architecture, afin de l'améliorer. Selon la taille de vos données et la question que vous posez, vous n'aurez peut-être pas besoin de construire ce troisième ensemble. \n",
        "\n",
        "Nous n'utiliserons pas de données de validation aujourd'hui."
      ]
    },
    {
      "cell_type": "markdown",
      "id": "29f94cc4",
      "metadata": {
        "id": "29f94cc4"
      },
      "source": [
        "Nous commençons donc par séparer les valeurs d'entrée ( features ) et la sortie attendue ( label ) dans des tableaux séparés :"
      ]
    },
    {
      "cell_type": "code",
      "execution_count": 254,
      "id": "6ad93473",
      "metadata": {
        "id": "6ad93473"
      },
      "outputs": [],
      "source": [
        "# X = new_pumpkins['DayOfYear'].to_numpy().reshape(-1,1)\n",
        "# y = new_pumpkins['Price']\n",
        "X_dates = dayOfYear.to_numpy().reshape(-1,1)\n",
        "y_prices = y_prices.to_numpy().reshape(-1,1)"
      ]
    },
    {
      "cell_type": "markdown",
      "id": "de92a0ac",
      "metadata": {
        "id": "de92a0ac"
      },
      "source": [
        "*Notez que nous avons dû effectuer un remodelage des données d'entrée. La fonction de régression linéaire attend un tableau 2D, où chaque ligne du tableau correspond à un vecteur de caractéristiques d'entrée. Dans notre cas, puisque nous n'avons qu'une seule entrée, nous avons besoin d'un tableau de forme N×1, où N est la taille de l'ensemble de données.*"
      ]
    },
    {
      "cell_type": "markdown",
      "id": "17b611b2",
      "metadata": {
        "id": "17b611b2"
      },
      "source": [
        "Ensuite, nous devons diviser les données en ensembles de données de training et de test, afin de pouvoir valider notre modèle par la suite:"
      ]
    },
    {
      "cell_type": "code",
      "execution_count": 255,
      "id": "b803e841",
      "metadata": {
        "id": "b803e841"
      },
      "outputs": [],
      "source": [
        "X_train, X_test, y_train, y_test = train_test_split(X_dates, y_prices, test_size=0.3)\n"
      ]
    },
    {
      "cell_type": "code",
      "execution_count": 256,
      "id": "fd164569",
      "metadata": {},
      "outputs": [
        {
          "data": {
            "text/plain": [
              "(numpy.ndarray, numpy.ndarray)"
            ]
          },
          "execution_count": 256,
          "metadata": {},
          "output_type": "execute_result"
        }
      ],
      "source": [
        "type(X_dates), type(y_prices)"
      ]
    },
    {
      "cell_type": "markdown",
      "id": "4e6ba376",
      "metadata": {
        "id": "4e6ba376"
      },
      "source": [
        "## Entraînement de notre modèle"
      ]
    },
    {
      "cell_type": "markdown",
      "id": "adeacffd",
      "metadata": {
        "id": "adeacffd"
      },
      "source": [
        "En utilisant vos données d'entraînement, votre objectif est de construire un modèle, ou une représentation statistique de vos données, en utilisant divers algorithmes pour l'entraîner, ici un modèle de régression. L'entraînement d'un modèle l'expose aux données et lui permet de faire des suppositions sur les patterns perçus qu'il découvre."
      ]
    },
    {
      "cell_type": "markdown",
      "id": "bcafe47d",
      "metadata": {
        "id": "bcafe47d"
      },
      "source": [
        "Pour un bref rappel, le but d'une régression linéaire est de pouvoir tracer une ligne pour :\n",
        "\n",
        "* Montrer la relation entre les variables, entre une variable dépendante et une variable indépendante.\n",
        "* Faire des prédictions précises sur l'emplacement d'un nouveau point de données par rapport à cette ligne.\n",
        "\n",
        "Pour cela le modèle calcule la distance entre tous les points de données autour de la ligne de régression. Idéalement, cette distance est la plus petite possible."
      ]
    },
    {
      "cell_type": "markdown",
      "id": "9f005f7d",
      "metadata": {
        "id": "9f005f7d"
      },
      "source": [
        "Si vous souhaitez en savoir plus sur la régression linéaire et la régression polynomiale, voici un [bon article](https://haltode.fr/algo/ia/apprentissage_artificiel/regression_lin_poly.html) qui récapitule les concepts clés. "
      ]
    },
    {
      "cell_type": "markdown",
      "id": "5abf262a",
      "metadata": {
        "id": "5abf262a"
      },
      "source": [
        "La création du modèle de régression linéaire proprement dit ne nécessite qu'une ligne de code. Nous définissons l'objet LinearRegression et l'adaptons à nos données à l'aide de la méthode fit :"
      ]
    },
    {
      "cell_type": "code",
      "execution_count": 257,
      "id": "9ceca5a2",
      "metadata": {
        "id": "9ceca5a2"
      },
      "outputs": [],
      "source": [
        "lin_reg = LinearRegression().fit(X_train,y_train)"
      ]
    },
    {
      "cell_type": "markdown",
      "id": "dd848874",
      "metadata": {
        "id": "dd848874"
      },
      "source": [
        "L'objet `LinearRegression` après entrainement contient tous les coefficients de la régression, qui peuvent être accédés en utilisant la propriété `.coef_`. Dans notre cas, il n'y a qu'un seul coefficient. Nous pouvons également accéder au point d'intersection de la régression avec l'axe des Y en utilisant la propriété `lin_reg.intercept_`. "
      ]
    },
    {
      "cell_type": "markdown",
      "id": "2e680fac",
      "metadata": {
        "id": "2e680fac"
      },
      "source": [
        "## Évaluation de notre modèle"
      ]
    },
    {
      "cell_type": "markdown",
      "id": "29f40520",
      "metadata": {
        "id": "29f40520"
      },
      "source": [
        "Pour voir à quel point notre modèle est précis, nous pouvons prédire les prix sur un ensemble de données de test, puis mesurer la perte de nos prédictions par rapport aux valeurs attendues. Pour ce faire, on utilise la mesure de l'erreur quadratique moyenne ( root mean square error = RMSE), qui est la racine carrée de la moyenne de toutes les différences au carré entre la valeur attendue et la valeur prédite. (Pour plus d'explications : https://www.youtube.com/watch?v=N6y5wqdIBas) "
      ]
    },
    {
      "cell_type": "code",
      "execution_count": 258,
      "id": "9a8840cf",
      "metadata": {
        "id": "9a8840cf",
        "outputId": "224ce770-0fc2-497f-bfa7-b21debb31ea3"
      },
      "outputs": [
        {
          "name": "stdout",
          "output_type": "stream",
          "text": [
            "Mean error: 86.0 (66.9%)\n"
          ]
        }
      ],
      "source": [
        "pred = lin_reg.predict(X_test)\n",
        "\n",
        "rmse = np.sqrt(mean_squared_error(y_test,pred))\n",
        "# mse = mean_squared_error(y_test,pred)\n",
        "print(f'Mean error: {rmse:3.3} ({rmse/np.mean(pred)*100:3.3}%)')"
      ]
    },
    {
      "cell_type": "markdown",
      "id": "d128d38a",
      "metadata": {
        "id": "d128d38a"
      },
      "source": [
        "Un autre indicateur de la qualité du modèle est le coefficient de détermination, qui peut être obtenu comme suit :"
      ]
    },
    {
      "cell_type": "code",
      "execution_count": 259,
      "id": "267c54ac",
      "metadata": {
        "id": "267c54ac",
        "outputId": "2fe38fd3-7d00-4427-9341-0df5790c4650"
      },
      "outputs": [
        {
          "name": "stdout",
          "output_type": "stream",
          "text": [
            "Model determination:  0.02177197758164784\n"
          ]
        }
      ],
      "source": [
        "score = lin_reg.score(X_train,y_train)\n",
        "print('Model determination: ', score)"
      ]
    },
    {
      "cell_type": "markdown",
      "id": "dc5e4964",
      "metadata": {
        "id": "dc5e4964"
      },
      "source": [
        "Si la valeur est 0, cela signifie que le modèle ne prend pas en compte les données d'entrée, et agit comme le pire prédicteur linéaire, qui est simplement une valeur moyenne du résultat. La valeur de 1 signifie que nous pouvons parfaitement prédire toutes les sorties attendues. (Pour plus d'explications : https://www.youtube.com/watch?v=6LBTmVv3K_Q)"
      ]
    },
    {
      "cell_type": "markdown",
      "id": "134d56aa",
      "metadata": {
        "id": "134d56aa"
      },
      "source": [
        "**A quel point votre modèle arrive à prédire correctement des données?**"
      ]
    },
    {
      "cell_type": "markdown",
      "id": "e2801f8f",
      "metadata": {
        "id": "e2801f8f"
      },
      "source": [
        "Nous pouvons également tracer les données de test avec la ligne de régression pour mieux voir comment la régression fonctionne dans notre cas :"
      ]
    },
    {
      "cell_type": "code",
      "execution_count": 260,
      "id": "733d047d",
      "metadata": {
        "id": "733d047d",
        "outputId": "98118016-96d6-4c07-dc07-697911c4fa2b"
      },
      "outputs": [
        {
          "data": {
            "image/png": "[encoded data removed]",
            "text/plain": [
              "<Figure size 640x480 with 1 Axes>"
            ]
          },
          "metadata": {},
          "output_type": "display_data"
        }
      ],
      "source": [
        "plt.scatter(X_train,y_train, s = 5) #Training data\n",
        "plt.scatter(X_test,y_test, color = \"orange\", s = 5) #Test data\n",
        "plt.plot(X_test, pred) #Regression line\n",
        "plt.xlabel(\"day of year\")\n",
        "plt.ylabel(\"price\")\n",
        "plt.show()"
      ]
    },
    {
      "cell_type": "markdown",
      "id": "6e18e02f",
      "metadata": {
        "id": "6e18e02f"
      },
      "source": [
        "**Quel prix de la citrouille notre modèle prévoit-il pour le 10 octobre ?**"
      ]
    },
    {
      "cell_type": "markdown",
      "id": "98993fc2",
      "metadata": {
        "id": "98993fc2"
      },
      "source": [
        "## Iteration"
      ]
    },
    {
      "cell_type": "markdown",
      "id": "5f29aeaf",
      "metadata": {
        "id": "5f29aeaf"
      },
      "source": [
        "Maintenant que nous savons comment créer notre modèle, notre objectif est de l'améliorer encore. Pour y parvenir, nous avons principalement trois options :\n",
        "* Peut-être que dans notre cas, le prix dépend de la variété des citrouilles ? Essayons de ré-entraîner un modèle avec le prix, la variété et les jours de l'année.\n",
        "* Peut-être que nos données ne suivent pas une relation linéaire ? Essayez de ré-entraîner un modèle en utilisant la régression polynomiale au lieu de la régression linéaire.\n",
        "* Réévaluer notre question. Notre question est-elle suffisamment précise ? Nos données nous permettent-elles de former un modèle qui puisse répondre à notre question ? "
      ]
    },
    {
      "cell_type": "markdown",
      "id": "713795be",
      "metadata": {
        "id": "713795be"
      },
      "source": [
        "#### Ajout des variétés de citrouille comme données d'entrée pour notre modèle "
      ]
    },
    {
      "cell_type": "markdown",
      "id": "8301deba",
      "metadata": {
        "id": "8301deba"
      },
      "source": [
        "Dans un monde idéal, nous voulons être en mesure de prédire les prix de différentes variétés de citrouilles en utilisant le même modèle. Cependant, la colonne `Variety` est quelque peu différente des colonnes comme `Average Price`, car elle contient des valeurs non numériques. Ces colonnes sont dites catégoriques."
      ]
    },
    {
      "cell_type": "markdown",
      "id": "144687c3",
      "metadata": {
        "id": "144687c3"
      },
      "source": [
        "Tracez un scatterplot du prix en fonction du jour de l'année avec des couleurs pour chaque variété de nos citrouilles. \n",
        "* Qu'observez-vous ? \n",
        "* Combien de citrouilles avons-nous dans chaque variété ? \n",
        "* La même variété de citrouilles est-elle vendue toute l'année ?"
      ]
    },
    {
      "cell_type": "code",
      "execution_count": 261,
      "id": "6e2faf89",
      "metadata": {
        "id": "6e2faf89"
      },
      "outputs": [],
      "source": [
        "#Your code"
      ]
    },
    {
      "cell_type": "markdown",
      "id": "96fb356e",
      "metadata": {
        "id": "96fb356e"
      },
      "source": [
        "Pour prendre en compte la variété, nous devons d'abord la convertir sous forme numérique, ou la coder. Il y a plusieurs façons de le faire :\n",
        "\n",
        "* Le codage numérique simple va construire une table des différentes variétés, puis remplacer le nom de la variété par un index dans cette table. Ce n'est pas la meilleure idée pour la régression linéaire, parce que la régression linéaire prend la valeur numérique réelle de l'indice, et l'ajoute au résultat, en le multipliant par un certain coefficient. Dans notre cas, la relation entre le numéro de l'indice et le prix est clairement non linéaire, même si nous nous assurons que les indices sont ordonnés d'une manière spécifique.\n",
        "* One hot encoding remplacera la colonne Variété par des colonnes différentes, une pour chaque variété. Chaque colonne contiendra 1 si la ligne correspondante est d'une variété donnée, et 0 sinon. Cela signifie qu'il y aura quatre coefficients dans la régression linéaire, un pour chaque variété de citrouille, responsable du \"prix de départ\" (ou plutôt du \"prix supplémentaire\") pour cette variété particulière.\n"
      ]
    },
    {
      "cell_type": "markdown",
      "id": "f44d8de6",
      "metadata": {
        "id": "f44d8de6"
      },
      "source": [
        "Le code ci-dessous montre comment nous pouvons coder un one hot encoding:"
      ]
    },
    {
      "cell_type": "code",
      "execution_count": 262,
      "id": "cd2b572b",
      "metadata": {
        "id": "cd2b572b",
        "outputId": "fad6194a-331d-452c-fc8d-c5fb2af4545f"
      },
      "outputs": [
        {
          "data": {
            "text/html": [
              "<div>\n",
              "<style scoped>\n",
              "    .dataframe tbody tr th:only-of-type {\n",
              "        vertical-align: middle;\n",
              "    }\n",
              "\n",
              "    .dataframe tbody tr th {\n",
              "        vertical-align: top;\n",
              "    }\n",
              "\n",
              "    .dataframe thead th {\n",
              "        text-align: right;\n",
              "    }\n",
              "</style>\n",
              "<table border=\"1\" class=\"dataframe\">\n",
              "  <thead>\n",
              "    <tr style=\"text-align: right;\">\n",
              "      <th></th>\n",
              "      <th>exjbo</th>\n",
              "      <th>jbo</th>\n",
              "      <th>lge</th>\n",
              "      <th>med</th>\n",
              "      <th>med-lge</th>\n",
              "      <th>sml</th>\n",
              "      <th>xlge</th>\n",
              "    </tr>\n",
              "  </thead>\n",
              "  <tbody>\n",
              "    <tr>\n",
              "      <th>0</th>\n",
              "      <td>0</td>\n",
              "      <td>0</td>\n",
              "      <td>1</td>\n",
              "      <td>0</td>\n",
              "      <td>0</td>\n",
              "      <td>0</td>\n",
              "      <td>0</td>\n",
              "    </tr>\n",
              "    <tr>\n",
              "      <th>1</th>\n",
              "      <td>0</td>\n",
              "      <td>0</td>\n",
              "      <td>1</td>\n",
              "      <td>0</td>\n",
              "      <td>0</td>\n",
              "      <td>0</td>\n",
              "      <td>0</td>\n",
              "    </tr>\n",
              "    <tr>\n",
              "      <th>2</th>\n",
              "      <td>0</td>\n",
              "      <td>0</td>\n",
              "      <td>0</td>\n",
              "      <td>1</td>\n",
              "      <td>0</td>\n",
              "      <td>0</td>\n",
              "      <td>0</td>\n",
              "    </tr>\n",
              "    <tr>\n",
              "      <th>3</th>\n",
              "      <td>0</td>\n",
              "      <td>0</td>\n",
              "      <td>0</td>\n",
              "      <td>1</td>\n",
              "      <td>0</td>\n",
              "      <td>0</td>\n",
              "      <td>0</td>\n",
              "    </tr>\n",
              "    <tr>\n",
              "      <th>4</th>\n",
              "      <td>0</td>\n",
              "      <td>0</td>\n",
              "      <td>1</td>\n",
              "      <td>0</td>\n",
              "      <td>0</td>\n",
              "      <td>0</td>\n",
              "      <td>0</td>\n",
              "    </tr>\n",
              "    <tr>\n",
              "      <th>...</th>\n",
              "      <td>...</td>\n",
              "      <td>...</td>\n",
              "      <td>...</td>\n",
              "      <td>...</td>\n",
              "      <td>...</td>\n",
              "      <td>...</td>\n",
              "      <td>...</td>\n",
              "    </tr>\n",
              "    <tr>\n",
              "      <th>1752</th>\n",
              "      <td>0</td>\n",
              "      <td>0</td>\n",
              "      <td>0</td>\n",
              "      <td>0</td>\n",
              "      <td>0</td>\n",
              "      <td>0</td>\n",
              "      <td>0</td>\n",
              "    </tr>\n",
              "    <tr>\n",
              "      <th>1753</th>\n",
              "      <td>0</td>\n",
              "      <td>0</td>\n",
              "      <td>0</td>\n",
              "      <td>0</td>\n",
              "      <td>0</td>\n",
              "      <td>1</td>\n",
              "      <td>0</td>\n",
              "    </tr>\n",
              "    <tr>\n",
              "      <th>1754</th>\n",
              "      <td>0</td>\n",
              "      <td>0</td>\n",
              "      <td>0</td>\n",
              "      <td>0</td>\n",
              "      <td>0</td>\n",
              "      <td>1</td>\n",
              "      <td>0</td>\n",
              "    </tr>\n",
              "    <tr>\n",
              "      <th>1755</th>\n",
              "      <td>0</td>\n",
              "      <td>0</td>\n",
              "      <td>0</td>\n",
              "      <td>0</td>\n",
              "      <td>0</td>\n",
              "      <td>1</td>\n",
              "      <td>0</td>\n",
              "    </tr>\n",
              "    <tr>\n",
              "      <th>1756</th>\n",
              "      <td>0</td>\n",
              "      <td>0</td>\n",
              "      <td>0</td>\n",
              "      <td>0</td>\n",
              "      <td>0</td>\n",
              "      <td>1</td>\n",
              "      <td>0</td>\n",
              "    </tr>\n",
              "  </tbody>\n",
              "</table>\n",
              "<p>1754 rows × 7 columns</p>\n",
              "</div>"
            ],
            "text/plain": [
              "      exjbo  jbo  lge  med  med-lge  sml  xlge\n",
              "0         0    0    1    0        0    0     0\n",
              "1         0    0    1    0        0    0     0\n",
              "2         0    0    0    1        0    0     0\n",
              "3         0    0    0    1        0    0     0\n",
              "4         0    0    1    0        0    0     0\n",
              "...     ...  ...  ...  ...      ...  ...   ...\n",
              "1752      0    0    0    0        0    0     0\n",
              "1753      0    0    0    0        0    1     0\n",
              "1754      0    0    0    0        0    1     0\n",
              "1755      0    0    0    0        0    1     0\n",
              "1756      0    0    0    0        0    1     0\n",
              "\n",
              "[1754 rows x 7 columns]"
            ]
          },
          "execution_count": 262,
          "metadata": {},
          "output_type": "execute_result"
        }
      ],
      "source": [
        "pd.get_dummies(pumpkins['Variety'])\n",
        "pd.get_dummies(pumpkins['Item Size'])"
      ]
    },
    {
      "cell_type": "markdown",
      "id": "d9014820",
      "metadata": {
        "id": "d9014820"
      },
      "source": [
        "Maintenant, ajoutons toutes nos étapes ensemble :"
      ]
    },
    {
      "cell_type": "code",
      "execution_count": 263,
      "id": "ecddaa04",
      "metadata": {
        "id": "ecddaa04",
        "outputId": "51bed7f4-4ec5-4542-96a2-5de28bb52217"
      },
      "outputs": [
        {
          "name": "stdout",
          "output_type": "stream",
          "text": [
            "Mean error: 64.9 (49.8%)\n",
            "Model determination:  0.4030840478835951\n"
          ]
        }
      ],
      "source": [
        "#Seperating input and output\n",
        "X = pd.get_dummies(pumpkins['Item Size']).join(pd.get_dummies(pumpkins['Variety']).join(pumpkins[\"DayOfYear\"]))\n",
        "y = y_prices\n",
        "\n",
        "# make train-test split\n",
        "X_train, X_test, y_train, y_test = train_test_split(X, y, test_size=0.2)\n",
        "\n",
        "# Train model\n",
        "pipeline = LinearRegression().fit(X_train,y_train)\n",
        "\n",
        "# predict results for test data\n",
        "pred = pipeline.predict(X_test)\n",
        "\n",
        "# calculate MSE and determination\n",
        "rmse = np.sqrt(mean_squared_error(y_test,pred))\n",
        "print(f'Mean error: {rmse:3.3} ({rmse/np.mean(pred)*100:3.3}%)')\n",
        "\n",
        "score = pipeline.score(X_train,y_train)\n",
        "print('Model determination: ', score)"
      ]
    },
    {
      "cell_type": "markdown",
      "id": "954e1158",
      "metadata": {
        "id": "954e1158"
      },
      "source": [
        "**A quel point votre modèle arrive à prédire correctement des données maintenant ?**"
      ]
    },
    {
      "cell_type": "markdown",
      "id": "25fce85b",
      "metadata": {
        "id": "25fce85b"
      },
      "source": [
        "#### Regression Polynomiale"
      ]
    },
    {
      "cell_type": "markdown",
      "id": "10b13da2",
      "metadata": {
        "id": "10b13da2"
      },
      "source": [
        "Un autre type de régression est la régression polynomiale. Bien qu'il existe parfois une relation linéaire entre les variables (plus le volume est important, plus le prix est élevé), il arrive que ces relations ne puissent pas être représentées par un plan ou une ligne droite.\n",
        "\n",
        "Regardez à nouveau la relation entre la date et le prix. Ce nuage de points vous semble-t-il devoir être nécessairement analysé par une ligne droite ? Les prix ne peuvent-ils pas fluctuer ? Dans ce cas, vous pouvez essayer la régression polynomiale.\n",
        "\n",
        "La régression polynomiale crée une ligne courbe pour mieux s'adapter aux données non linéaires. Dans notre cas, si nous incluons une variable `DayOfYear` au carré dans les données d'entrée, nous devrions pouvoir ajuster nos données avec une courbe parabolique, qui aura un minimum à un certain point de l'année.\n",
        "\n",
        "Scikit-learn comprend une API de pipeline utile pour combiner différentes étapes du traitement des données. Un pipeline est une chaîne d'estimateurs. Dans notre cas, nous allons créer un pipeline qui ajoute d'abord des caractéristiques polynomiales à notre modèle, puis entraîne la régression :"
      ]
    },
    {
      "cell_type": "code",
      "execution_count": 264,
      "id": "4aa28a8c",
      "metadata": {
        "id": "4aa28a8c"
      },
      "outputs": [
        {
          "data": {
            "text/html": [
              "<style>#sk-container-id-11 {color: black;background-color: white;}#sk-container-id-11 pre{padding: 0;}#sk-container-id-11 div.sk-toggleable {background-color: white;}#sk-container-id-11 label.sk-toggleable__label {cursor: pointer;display: block;width: 100%;margin-bottom: 0;padding: 0.3em;box-sizing: border-box;text-align: center;}#sk-container-id-11 label.sk-toggleable__label-arrow:before {content: \"▸\";float: left;margin-right: 0.25em;color: #696969;}#sk-container-id-11 label.sk-toggleable__label-arrow:hover:before {color: black;}#sk-container-id-11 div.sk-estimator:hover label.sk-toggleable__label-arrow:before {color: black;}#sk-container-id-11 div.sk-toggleable__content {max-height: 0;max-width: 0;overflow: hidden;text-align: left;background-color: #f0f8ff;}#sk-container-id-11 div.sk-toggleable__content pre {margin: 0.2em;color: black;border-radius: 0.25em;background-color: #f0f8ff;}#sk-container-id-11 input.sk-toggleable__control:checked~div.sk-toggleable__content {max-height: 200px;max-width: 100%;overflow: auto;}#sk-container-id-11 input.sk-toggleable__control:checked~label.sk-toggleable__label-arrow:before {content: \"▾\";}#sk-container-id-11 div.sk-estimator input.sk-toggleable__control:checked~label.sk-toggleable__label {background-color: #d4ebff;}#sk-container-id-11 div.sk-label input.sk-toggleable__control:checked~label.sk-toggleable__label {background-color: #d4ebff;}#sk-container-id-11 input.sk-hidden--visually {border: 0;clip: rect(1px 1px 1px 1px);clip: rect(1px, 1px, 1px, 1px);height: 1px;margin: -1px;overflow: hidden;padding: 0;position: absolute;width: 1px;}#sk-container-id-11 div.sk-estimator {font-family: monospace;background-color: #f0f8ff;border: 1px dotted black;border-radius: 0.25em;box-sizing: border-box;margin-bottom: 0.5em;}#sk-container-id-11 div.sk-estimator:hover {background-color: #d4ebff;}#sk-container-id-11 div.sk-parallel-item::after {content: \"\";width: 100%;border-bottom: 1px solid gray;flex-grow: 1;}#sk-container-id-11 div.sk-label:hover label.sk-toggleable__label {background-color: #d4ebff;}#sk-container-id-11 div.sk-serial::before {content: \"\";position: absolute;border-left: 1px solid gray;box-sizing: border-box;top: 0;bottom: 0;left: 50%;z-index: 0;}#sk-container-id-11 div.sk-serial {display: flex;flex-direction: column;align-items: center;background-color: white;padding-right: 0.2em;padding-left: 0.2em;position: relative;}#sk-container-id-11 div.sk-item {position: relative;z-index: 1;}#sk-container-id-11 div.sk-parallel {display: flex;align-items: stretch;justify-content: center;background-color: white;position: relative;}#sk-container-id-11 div.sk-item::before, #sk-container-id-11 div.sk-parallel-item::before {content: \"\";position: absolute;border-left: 1px solid gray;box-sizing: border-box;top: 0;bottom: 0;left: 50%;z-index: -1;}#sk-container-id-11 div.sk-parallel-item {display: flex;flex-direction: column;z-index: 1;position: relative;background-color: white;}#sk-container-id-11 div.sk-parallel-item:first-child::after {align-self: flex-end;width: 50%;}#sk-container-id-11 div.sk-parallel-item:last-child::after {align-self: flex-start;width: 50%;}#sk-container-id-11 div.sk-parallel-item:only-child::after {width: 0;}#sk-container-id-11 div.sk-dashed-wrapped {border: 1px dashed gray;margin: 0 0.4em 0.5em 0.4em;box-sizing: border-box;padding-bottom: 0.4em;background-color: white;}#sk-container-id-11 div.sk-label label {font-family: monospace;font-weight: bold;display: inline-block;line-height: 1.2em;}#sk-container-id-11 div.sk-label-container {text-align: center;}#sk-container-id-11 div.sk-container {/* jupyter's `normalize.less` sets `[hidden] { display: none; }` but bootstrap.min.css set `[hidden] { display: none !important; }` so we also need the `!important` here to be able to override the default hidden behavior on the sphinx rendered scikit-learn.org. See: https://github.com/scikit-learn/scikit-learn/issues/21755 */display: inline-block !important;position: relative;}#sk-container-id-11 div.sk-text-repr-fallback {display: none;}</style><div id=\"sk-container-id-11\" class=\"sk-top-container\"><div class=\"sk-text-repr-fallback\"><pre>Pipeline(steps=[(&#x27;polynomialfeatures&#x27;, PolynomialFeatures()),\n",
              "                (&#x27;linearregression&#x27;, LinearRegression())])</pre><b>In a Jupyter environment, please rerun this cell to show the HTML representation or trust the notebook. <br />On GitHub, the HTML representation is unable to render, please try loading this page with nbviewer.org.</b></div><div class=\"sk-container\" hidden><div class=\"sk-item sk-dashed-wrapped\"><div class=\"sk-label-container\"><div class=\"sk-label sk-toggleable\"><input class=\"sk-toggleable__control sk-hidden--visually\" id=\"sk-estimator-id-31\" type=\"checkbox\" ><label for=\"sk-estimator-id-31\" class=\"sk-toggleable__label sk-toggleable__label-arrow\">Pipeline</label><div class=\"sk-toggleable__content\"><pre>Pipeline(steps=[(&#x27;polynomialfeatures&#x27;, PolynomialFeatures()),\n",
              "                (&#x27;linearregression&#x27;, LinearRegression())])</pre></div></div></div><div class=\"sk-serial\"><div class=\"sk-item\"><div class=\"sk-estimator sk-toggleable\"><input class=\"sk-toggleable__control sk-hidden--visually\" id=\"sk-estimator-id-32\" type=\"checkbox\" ><label for=\"sk-estimator-id-32\" class=\"sk-toggleable__label sk-toggleable__label-arrow\">PolynomialFeatures</label><div class=\"sk-toggleable__content\"><pre>PolynomialFeatures()</pre></div></div></div><div class=\"sk-item\"><div class=\"sk-estimator sk-toggleable\"><input class=\"sk-toggleable__control sk-hidden--visually\" id=\"sk-estimator-id-33\" type=\"checkbox\" ><label for=\"sk-estimator-id-33\" class=\"sk-toggleable__label sk-toggleable__label-arrow\">LinearRegression</label><div class=\"sk-toggleable__content\"><pre>LinearRegression()</pre></div></div></div></div></div></div></div>"
            ],
            "text/plain": [
              "Pipeline(steps=[('polynomialfeatures', PolynomialFeatures()),\n",
              "                ('linearregression', LinearRegression())])"
            ]
          },
          "execution_count": 264,
          "metadata": {},
          "output_type": "execute_result"
        }
      ],
      "source": [
        "from sklearn.preprocessing import PolynomialFeatures\n",
        "from sklearn.pipeline import make_pipeline\n",
        "\n",
        "pipeline = make_pipeline(PolynomialFeatures(2), LinearRegression())\n",
        "\n",
        "pipeline.fit(X_train,y_train)"
      ]
    },
    {
      "cell_type": "markdown",
      "id": "713840fe",
      "metadata": {
        "id": "713840fe"
      },
      "source": [
        "Maintenant, si on met toutes nos étapes ensemble, on obtient :"
      ]
    },
    {
      "cell_type": "code",
      "execution_count": 265,
      "id": "a5f75d8b",
      "metadata": {
        "id": "a5f75d8b",
        "outputId": "b628db77-7927-4c5d-d111-973cc2c3f533",
        "scrolled": false
      },
      "outputs": [
        {
          "name": "stdout",
          "output_type": "stream",
          "text": [
            "Mean error: 84.8 (65.0%)\n",
            "Model determination:  0.02819850370359045\n"
          ]
        },
        {
          "data": {
            "image/png": "[encoded data removed]",
            "text/plain": [
              "<Figure size 640x480 with 1 Axes>"
            ]
          },
          "metadata": {},
          "output_type": "display_data"
        }
      ],
      "source": [
        "from sklearn.preprocessing import PolynomialFeatures\n",
        "from sklearn.pipeline import make_pipeline\n",
        "\n",
        "#Seperating input and output\n",
        "X = pumpkins['DayOfYear'].to_numpy().reshape(-1,1)\n",
        "y = pumpkins['Price']\n",
        "\n",
        "# make train-test split\n",
        "X_train, X_test, y_train, y_test = train_test_split(X, y, test_size=0.2)\n",
        "\n",
        "# Train model\n",
        "pipeline = make_pipeline(PolynomialFeatures(4), LinearRegression())\n",
        "pipeline.fit(X_train,y_train)\n",
        "\n",
        "# predict results for test data\n",
        "pred = pipeline.predict(X_test)\n",
        "\n",
        "# calculate MSE and determination\n",
        "mse = np.sqrt(mean_squared_error(y_test,pred))\n",
        "print(f'Mean error: {mse:3.3} ({mse/np.mean(pred)*100:3.3}%)')\n",
        "\n",
        "score = pipeline.score(X_train,y_train)\n",
        "print('Model determination: ', score)\n",
        "\n",
        "plt.scatter(X_train,y_train, s = 5) #Training data\n",
        "plt.scatter(X_test,y_test, color = \"orange\", s = 5) #Test data\n",
        "reg_x, reg_y = zip(*sorted(zip(X_test[:,0], pred))) #Sorting data to get a nice plot\n",
        "plt.plot(reg_x, reg_y, '--bo') #Regression line\n",
        "plt.xlabel(\"day of year\")\n",
        "plt.ylabel(\"price\")\n",
        "plt.show()\n",
        "\n",
        "\n"
      ]
    },
    {
      "cell_type": "markdown",
      "id": "eaabadc3",
      "metadata": {
        "id": "eaabadc3"
      },
      "source": [
        "**A quel point votre modèle arrive à prédire correctement des données maintenant ?**"
      ]
    },
    {
      "cell_type": "markdown",
      "id": "03874cc1",
      "metadata": {
        "id": "03874cc1"
      },
      "source": [
        "## A vous de jouer ! \n",
        "\n",
        "Maintenant que nous avons vu les étapes clés dans la création d'un modèle de regression, à vous de creer vos itérations pour créer le meilleur modèle possible ! \n",
        "Vous serez évalués sous la forme d'un rapport. Le template du rapport est disponible dans le [drive](https://docs.google.com/document/d/16arpyMok-Z4hC0_GJ_7URn6oxHMfvdunM0Tdk5oxbgs/edit#).\n",
        "Pensez à bien visualiser vos données pour bien les comprendre et soyez créatifs :)"
      ]
    },
    {
      "cell_type": "code",
      "execution_count": null,
      "id": "c002faf6",
      "metadata": {
        "id": "c002faf6"
      },
      "outputs": [],
      "source": []
    }
  ],
  "metadata": {
    "colab": {
      "collapsed_sections": [
        "545b5be9",
        "713795be",
        "25fce85b"
      ],
      "include_colab_link": true,
      "provenance": []
    },
    "kernelspec": {
      "display_name": "Python 3.10.4 64-bit",
      "language": "python",
      "name": "python3"
    },
    "language_info": {
      "codemirror_mode": {
        "name": "ipython",
        "version": 3
      },
      "file_extension": ".py",
      "mimetype": "text/x-python",
      "name": "python",
      "nbconvert_exporter": "python",
      "pygments_lexer": "ipython3",
      "version": "3.10.6"
    },
    "vscode": {
      "interpreter": {
        "hash": "916dbcbb3f70747c44a77c7bcd40155683ae19c65e1c03b4aa3499c5328201f1"
      }
    }
  },
  "nbformat": 4,
  "nbformat_minor": 5
}
